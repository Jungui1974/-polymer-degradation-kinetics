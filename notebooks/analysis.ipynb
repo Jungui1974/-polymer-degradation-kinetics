python3
# Cell 1: Setup and imports
# sys.path allows importing from other directories
import sys
sys.path.append('../src')  # Go up one level, then into src folder

# Import our custom classes
from data_generation import DegradationDataGenerator
from kinetic_analysis import KineticAnalyzer
from visualization import DegradationVisualizer
import pandas as pd

# Cell 2: Generate data
# Create instance with specific parameters
generator = DegradationDataGenerator(activation_energy=80)
# Call method to generate dataset
df = generator.generate_dataset()
# Save data with relative path (../ means go up one directory)
generator.save_data(df, '../data/degradation_data.csv')
# len() returns number of rows in DataFrame
print(f"Generated {len(df)} data points")
# .head() shows first 5 rows
df.head()

# Cell 3: Kinetic analysis
# Create analyzer instance and load data
analyzer = KineticAnalyzer('../data/degradation_data.csv')
analyzer.fit_temperature_curves()

# Loop through dictionary items
for temp, data in analyzer.rate_constants.items():
    # :.2e means scientific notation with 2 decimal places
    # :.3f means decimal notation with 3 decimal places
    print(f"{temp}°C: k = {data['k']:.2e} week⁻¹, R² = {data['r_squared']:.3f}")

# Cell 4: Arrhenius analysis
arrhenius_results = analyzer.arrhenius_analysis()
print(f"Activation Energy: {arrhenius_results['ea_kj_mol']:.1f} kJ/mol")
print(f"Pre-exponential Factor: {arrhenius_results['pre_exponential']:.2e}")
print(f"R²: {arrhenius_results['r_squared']:.3f}")

# Cell 5: Long-term predictions
# Dictionary with multiple prediction scenarios
predictions = {
    '25°C, 10 years': analyzer.predict_long_term(25, 10),
    '37°C, 5 years': analyzer.predict_long_term(37, 5),
    '4°C, 20 years': analyzer.predict_long_term(4, 20)
}

# .items() returns key-value pairs from dictionary
for condition, retention in predictions.items():
    print(f"{condition}: {retention:.1f}% retention")

# Cell 6: Visualizations
visualizer = DegradationVisualizer(analyzer, '../results/figures')
visualizer.generate_all_plots()
